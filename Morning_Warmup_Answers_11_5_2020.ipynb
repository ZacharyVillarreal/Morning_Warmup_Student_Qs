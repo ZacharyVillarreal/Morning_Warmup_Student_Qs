{
 "cells": [
  {
   "cell_type": "markdown",
   "metadata": {},
   "source": [
    "# Morning Warm-up Answers - November 5th, 2020"
   ]
  },
  {
   "cell_type": "markdown",
   "metadata": {},
   "source": [
    "1. Solve this SQL function:"
   ]
  },
  {
   "cell_type": "code",
   "execution_count": 2,
   "metadata": {},
   "outputs": [],
   "source": [
    "def sql_query():\n",
    "    '''\n",
    "    input: none\n",
    "    output: string\n",
    "    \n",
    "    given a table named themeparks which contains data \n",
    "    with these columns:\n",
    "        Themepark, Sales, Street, City, State\n",
    "    return a sql query that gives the count of themeparks for each city.\n",
    "    \n",
    "    Note: Keep in mind that city names are not always unique unless you include\n",
    "    the state as well.\n",
    "    Your result should have: city, cnt.\n",
    "    '''\n",
    "    # your code should look like this:\n",
    "    # return '''SELECT * \n",
    "    #           FROM themeparks;'''\n",
    "    return '''SELECT city, COUNT(*) AS cnt\n",
    "              FROM themeparks\n",
    "              GROUP BY city, state\n",
    "           '''"
   ]
  },
  {
   "cell_type": "markdown",
   "metadata": {},
   "source": [
    "2. What do the beta coefficients in linear regression represent?"
   ]
  },
  {
   "cell_type": "markdown",
   "metadata": {},
   "source": [
    "**Answer**:<br>\n",
    "The beta coefficient is the degree of change in the outcome variable for every 1-unit of change in the predictor variable."
   ]
  },
  {
   "cell_type": "markdown",
   "metadata": {},
   "source": [
    "3. What is bias? What does it mean for a model to have high bias?<br>\n",
    "   What is variance? What does it mean for a model to have high variance?"
   ]
  },
  {
   "cell_type": "markdown",
   "metadata": {},
   "source": [
    "**Answer**:<br>\n",
    "**Bias**: the difference between the aerage prediction of our model and the correct value which we are trying to predit. Models w/ high bias pays very little attention to the training data and oversimplifies the model (underfit).\n",
    "\n",
    "**Variance**: the variability of model prediction for a given data point or a value which tells us spread of our data. Models w/ high variance pay a lot of attention to training data and does not generalize on the data which it hasn't seen before."
   ]
  },
  {
   "cell_type": "markdown",
   "metadata": {},
   "source": [
    "4. You have a data set with 10,000 points:\n",
    "* Is a kNN model with k=1 overfit or underfit? (Why?)\n",
    "* Is a kNN model with k=10000 overfit or underfit? (Why?)"
   ]
  },
  {
   "cell_type": "markdown",
   "metadata": {},
   "source": [
    "**Answer**:<br>\n",
    "\n",
    "**K = 1**: this model will be overfit. As it will fit the training data very well, but is very dependent on the data that has trained the model. It will not be able to predict new data accurately. (High Variance)\n",
    "\n",
    "**K = 10000**: this model will be underfit. As we increase K, the decision boundaries become more representative of a smooth line. This will cause a lot of errors in both the training data and the testing data. (High bias)"
   ]
  },
  {
   "cell_type": "markdown",
   "metadata": {},
   "source": [
    "#### Extra Notes:"
   ]
  },
  {
   "cell_type": "markdown",
   "metadata": {},
   "source": [
    "Sklearn LinearRegression Model: https://scikit-learn.org/stable/modules/generated/sklearn.linear_model.LinearRegression.html\n",
    "* model.fit\n",
    "* model.score\n",
    "* model.coef_"
   ]
  },
  {
   "cell_type": "code",
   "execution_count": null,
   "metadata": {},
   "outputs": [],
   "source": []
  }
 ],
 "metadata": {
  "kernelspec": {
   "display_name": "Python 3.7.4 64-bit ('base': conda)",
   "language": "python",
   "name": "python37464bitbaseconda7d173c5ac3d647bb86950a56c57e9e53"
  },
  "language_info": {
   "codemirror_mode": {
    "name": "ipython",
    "version": 3
   },
   "file_extension": ".py",
   "mimetype": "text/x-python",
   "name": "python",
   "nbconvert_exporter": "python",
   "pygments_lexer": "ipython3",
   "version": "3.7.4"
  }
 },
 "nbformat": 4,
 "nbformat_minor": 4
}
