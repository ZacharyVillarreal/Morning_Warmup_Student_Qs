{
 "cells": [
  {
   "cell_type": "markdown",
   "metadata": {},
   "source": [
    "# Morning Warm-up Questions - November 5th, 2020"
   ]
  },
  {
   "cell_type": "markdown",
   "metadata": {},
   "source": [
    "1. Solve this SQL function:"
   ]
  },
  {
   "cell_type": "code",
   "execution_count": 1,
   "metadata": {},
   "outputs": [],
   "source": [
    "def sql_query():\n",
    "    '''\n",
    "    input: none\n",
    "    output: string\n",
    "    \n",
    "    given a table named themeparks which contains data \n",
    "    with these columns:\n",
    "        Themepark, Sales, Street, City, State\n",
    "    return a sql query that gives the count of themeparks for each city.\n",
    "    \n",
    "    Note: Keep in mind that city names are not always unique unless you include\n",
    "    the state as well.\n",
    "    Your result should have: city, cnt.\n",
    "    '''\n",
    "    # your code should look like this:\n",
    "    # return '''SELECT * \n",
    "    #           FROM themeparks;'''\n",
    "    pass"
   ]
  },
  {
   "cell_type": "markdown",
   "metadata": {},
   "source": [
    "2. What do the beta coefficients in linear regression represent?"
   ]
  },
  {
   "cell_type": "markdown",
   "metadata": {},
   "source": [
    "3. What is bias? What does it mean for a model to have high bias?<br>\n",
    "   What is variance? What does it mean for a model to have high variance?"
   ]
  },
  {
   "cell_type": "markdown",
   "metadata": {},
   "source": [
    "4. You have a data set with 10,000 points:\n",
    "* Is a kNN model with k=1 overfit or underfit? (Why?)\n",
    "* Is a kNN model with k=10000 overfit or underfit? (Why?)"
   ]
  },
  {
   "cell_type": "code",
   "execution_count": null,
   "metadata": {},
   "outputs": [],
   "source": []
  }
 ],
 "metadata": {
  "kernelspec": {
   "display_name": "Python 3.7.4 64-bit ('base': conda)",
   "language": "python",
   "name": "python37464bitbaseconda7d173c5ac3d647bb86950a56c57e9e53"
  },
  "language_info": {
   "codemirror_mode": {
    "name": "ipython",
    "version": 3
   },
   "file_extension": ".py",
   "mimetype": "text/x-python",
   "name": "python",
   "nbconvert_exporter": "python",
   "pygments_lexer": "ipython3",
   "version": "3.7.4"
  }
 },
 "nbformat": 4,
 "nbformat_minor": 4
}
