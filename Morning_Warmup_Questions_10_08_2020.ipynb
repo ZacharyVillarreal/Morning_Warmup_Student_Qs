{
 "cells": [
  {
   "cell_type": "markdown",
   "metadata": {},
   "source": [
    "# Morning Warmup Questions - October 8th, 2020"
   ]
  },
  {
   "cell_type": "markdown",
   "metadata": {},
   "source": [
    "## Conceptual Questions"
   ]
  },
  {
   "cell_type": "markdown",
   "metadata": {},
   "source": [
    "1. What are the key differences between a NumPy array and a Python list?"
   ]
  },
  {
   "cell_type": "markdown",
   "metadata": {},
   "source": [
    "2. What are four common types of Python data structures that were discussed during lecture? Which are mutable and which are immutable?"
   ]
  },
  {
   "cell_type": "markdown",
   "metadata": {},
   "source": [
    "3. What is git, and what are its advantages?"
   ]
  },
  {
   "cell_type": "markdown",
   "metadata": {},
   "source": [
    "4. What are scalars, vectors, and matrices?"
   ]
  },
  {
   "cell_type": "markdown",
   "metadata": {},
   "source": [
    "5. What is Euclidean distance? What is the Manhattan distance(Taxicab distance)?"
   ]
  },
  {
   "cell_type": "markdown",
   "metadata": {},
   "source": [
    "## Technical Questions"
   ]
  },
  {
   "cell_type": "markdown",
   "metadata": {},
   "source": [
    "1. Please reverse the rows of a 2D array, then reverse the columns of a 2D array"
   ]
  },
  {
   "cell_type": "code",
   "execution_count": 3,
   "metadata": {},
   "outputs": [
    {
     "data": {
      "text/plain": [
       "array([[0, 1, 2],\n",
       "       [3, 4, 5],\n",
       "       [6, 7, 8]])"
      ]
     },
     "execution_count": 3,
     "metadata": {},
     "output_type": "execute_result"
    }
   ],
   "source": [
    "import numpy as np\n",
    "\n",
    "#Input: \n",
    "arr = np.arange(9).reshape(3,3); arr"
   ]
  },
  {
   "cell_type": "markdown",
   "metadata": {},
   "source": [
    "2. You are given a list of nine integers, your task is to convert this list into a 3x3 NumPy array, and then return the number that is located in the 2nd row of the 2nd column (i.e. [[1,2,3],<br>\n",
    "[3,4,5],<br>\n",
    "[5,6,7]] --> 4)"
   ]
  },
  {
   "cell_type": "code",
   "execution_count": 5,
   "metadata": {},
   "outputs": [],
   "source": [
    "# Input:\n",
    "lst = [0,1,2,3,4,5,6,7,8]\n",
    "\n",
    "#Output: \n",
    "# arr = [[0,1,2],\n",
    "#        [3,4,5],\n",
    "#        [6,7,8]]\n",
    "# 4"
   ]
  },
  {
   "cell_type": "markdown",
   "metadata": {},
   "source": [
    "3. You are given one matrix, however you need to initialize a new matrix of the same shape, and fill it with ones. Then calculate the dot product between the original matrix with the new matrix."
   ]
  },
  {
   "cell_type": "code",
   "execution_count": 8,
   "metadata": {},
   "outputs": [],
   "source": [
    "# Input:\n",
    "A = np.array([[1,2,3],\n",
    "             [4,5,6],\n",
    "             [7,8,9]])\n",
    "\n",
    "\n",
    "#Output:\n",
    "# array([[6., 6., 6.],\n",
    "#       [15., 15., 15.],\n",
    "#       [24., 24., 24.]])"
   ]
  },
  {
   "cell_type": "markdown",
   "metadata": {},
   "source": [
    "4. You are given a pandas dataframe with 2 columns, the first column, 'Items_purchased', indicates how many items the individual bought, the second column, 'Item_Price', contains information regarding the price of said item. Please add a column to the DataFrame called 'Total_Cost' which contains the total amount that the individual spent. <br>\n",
    "\n",
    "Hint: (number of items * price of item)"
   ]
  },
  {
   "cell_type": "code",
   "execution_count": 10,
   "metadata": {},
   "outputs": [
    {
     "data": {
      "text/html": [
       "<div>\n",
       "<style scoped>\n",
       "    .dataframe tbody tr th:only-of-type {\n",
       "        vertical-align: middle;\n",
       "    }\n",
       "\n",
       "    .dataframe tbody tr th {\n",
       "        vertical-align: top;\n",
       "    }\n",
       "\n",
       "    .dataframe thead th {\n",
       "        text-align: right;\n",
       "    }\n",
       "</style>\n",
       "<table border=\"1\" class=\"dataframe\">\n",
       "  <thead>\n",
       "    <tr style=\"text-align: right;\">\n",
       "      <th></th>\n",
       "      <th>Items_purchased</th>\n",
       "      <th>Item_Price</th>\n",
       "    </tr>\n",
       "  </thead>\n",
       "  <tbody>\n",
       "    <tr>\n",
       "      <th>0</th>\n",
       "      <td>1</td>\n",
       "      <td>123.92</td>\n",
       "    </tr>\n",
       "    <tr>\n",
       "      <th>1</th>\n",
       "      <td>10</td>\n",
       "      <td>87.77</td>\n",
       "    </tr>\n",
       "    <tr>\n",
       "      <th>2</th>\n",
       "      <td>23</td>\n",
       "      <td>2.12</td>\n",
       "    </tr>\n",
       "    <tr>\n",
       "      <th>3</th>\n",
       "      <td>24</td>\n",
       "      <td>20.13</td>\n",
       "    </tr>\n",
       "    <tr>\n",
       "      <th>4</th>\n",
       "      <td>13</td>\n",
       "      <td>10.01</td>\n",
       "    </tr>\n",
       "    <tr>\n",
       "      <th>5</th>\n",
       "      <td>15</td>\n",
       "      <td>7.99</td>\n",
       "    </tr>\n",
       "    <tr>\n",
       "      <th>6</th>\n",
       "      <td>22</td>\n",
       "      <td>12.99</td>\n",
       "    </tr>\n",
       "    <tr>\n",
       "      <th>7</th>\n",
       "      <td>1</td>\n",
       "      <td>20.12</td>\n",
       "    </tr>\n",
       "    <tr>\n",
       "      <th>8</th>\n",
       "      <td>10</td>\n",
       "      <td>199.99</td>\n",
       "    </tr>\n",
       "    <tr>\n",
       "      <th>9</th>\n",
       "      <td>2</td>\n",
       "      <td>10.99</td>\n",
       "    </tr>\n",
       "    <tr>\n",
       "      <th>10</th>\n",
       "      <td>7</td>\n",
       "      <td>9.99</td>\n",
       "    </tr>\n",
       "  </tbody>\n",
       "</table>\n",
       "</div>"
      ],
      "text/plain": [
       "    Items_purchased  Item_Price\n",
       "0                 1      123.92\n",
       "1                10       87.77\n",
       "2                23        2.12\n",
       "3                24       20.13\n",
       "4                13       10.01\n",
       "5                15        7.99\n",
       "6                22       12.99\n",
       "7                 1       20.12\n",
       "8                10      199.99\n",
       "9                 2       10.99\n",
       "10                7        9.99"
      ]
     },
     "execution_count": 10,
     "metadata": {},
     "output_type": "execute_result"
    }
   ],
   "source": [
    "import pandas as pd\n",
    "\n",
    "# Input:\n",
    "df = pd.DataFrame({'Items_purchased': [1,10,23,24,13,15,22,1,10,2,7], 'Item_Price': [123.92, 87.77, 2.12, 20.13, 10.01, 7.99, 12.99, 20.12, 199.99, 10.99, 9.99]}); df"
   ]
  },
  {
   "cell_type": "markdown",
   "metadata": {},
   "source": [
    "5. Write a function that will take in two dictionaries. These dictionaries will have the same keys, but their values will be different. Return a new dictionary, with the keys from the original dictionaries and their respective *minimum* values. "
   ]
  },
  {
   "cell_type": "code",
   "execution_count": 13,
   "metadata": {},
   "outputs": [],
   "source": [
    "def minimum_dictionary(dict1, dict2):\n",
    "    '''\n",
    "    INPUT: dictionary, dictionary\n",
    "    OUTPUT: dictionary\n",
    "    '''\n",
    "    pass\n",
    "    \n",
    "    \n",
    "    \n",
    "dict1 = {'a': 12, 'b': 14, 'c': 24, 'd': 74}\n",
    "dict2 = {'a': 24, 'b': 129, 'c': 12, 'd': 74}\n",
    "\n",
    "\n",
    "minimum_dictionary(dict1, dict2)\n",
    "#Output: {'a': 12, 'b': 14, 'c': 12, 'd': 74}"
   ]
  },
  {
   "cell_type": "code",
   "execution_count": null,
   "metadata": {},
   "outputs": [],
   "source": []
  }
 ],
 "metadata": {
  "kernelspec": {
   "display_name": "Python 3.7.4 64-bit ('base': conda)",
   "language": "python",
   "name": "python37464bitbaseconda7d173c5ac3d647bb86950a56c57e9e53"
  },
  "language_info": {
   "codemirror_mode": {
    "name": "ipython",
    "version": 3
   },
   "file_extension": ".py",
   "mimetype": "text/x-python",
   "name": "python",
   "nbconvert_exporter": "python",
   "pygments_lexer": "ipython3",
   "version": "3.7.4"
  }
 },
 "nbformat": 4,
 "nbformat_minor": 4
}
