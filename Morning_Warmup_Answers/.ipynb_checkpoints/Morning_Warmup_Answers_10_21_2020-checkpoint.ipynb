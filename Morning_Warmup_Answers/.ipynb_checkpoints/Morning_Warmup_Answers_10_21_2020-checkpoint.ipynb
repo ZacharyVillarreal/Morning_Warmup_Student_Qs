{
 "cells": [
  {
   "cell_type": "markdown",
   "metadata": {},
   "source": [
    "# Morning Warm-up Questions - October 21st, 2020"
   ]
  },
  {
   "cell_type": "markdown",
   "metadata": {},
   "source": [
    "1. Solve this SQL function"
   ]
  },
  {
   "cell_type": "code",
   "execution_count": 14,
   "metadata": {},
   "outputs": [],
   "source": [
    "def sql_query():\n",
    "    '''\n",
    "    input: none\n",
    "    output: string\n",
    "    \n",
    "    given a table named world which contains population data \n",
    "    with these columns:\n",
    "        name, region, area, population, gdp\n",
    "    return a sql query that gives the average population of 'Poland', 'Germany', 'Denmark'.\n",
    "    '''\n",
    "    # your code should look like this:\n",
    "    # return '''SELECT * \n",
    "    #           FROM world;'''\n",
    "    return '''SELECT \n",
    "                avg(population) as avg_population\n",
    "              FROM world \n",
    "              WHERE name IN ('Poland', 'Germany', 'Denmark');\n",
    "           '''"
   ]
  },
  {
   "cell_type": "markdown",
   "metadata": {},
   "source": [
    "2. Solve this SQL function"
   ]
  },
  {
   "cell_type": "code",
   "execution_count": 3,
   "metadata": {},
   "outputs": [],
   "source": [
    "def sql_query():\n",
    "    '''\n",
    "    input: none\n",
    "    output: string\n",
    "    \n",
    "    given a table named CITY which contains Japanese city data \n",
    "    with these columns:\n",
    "        ID, NAME, COUNTRYCODE, DISTRICT, POPULATION\n",
    "    return a sql query that gives a list of all cities that start with the letter Y.\n",
    "    '''\n",
    "    # your code should look like this:\n",
    "    # return '''SELECT * \n",
    "    #           FROM CITY;'''\n",
    "    return '''SELECT \n",
    "                NAME\n",
    "              FROM CITY \n",
    "              WHERE NAME LIKE \"Y%\";\n",
    "           '''"
   ]
  },
  {
   "cell_type": "markdown",
   "metadata": {},
   "source": [
    "3. Solve this NumPy function"
   ]
  },
  {
   "cell_type": "code",
   "execution_count": 7,
   "metadata": {},
   "outputs": [],
   "source": [
    "import numpy as np\n",
    "def even_and_three_array(arr):\n",
    "    '''\n",
    "    INPUT: NUMPY ARRAY\n",
    "    OUTPUT: NUMPY ARRAY\n",
    "    \n",
    "    arr in a numpy array of integers. \n",
    "    Return an array of the integers in arr that are even and divisible by 3\n",
    "    For example:\n",
    "    In [1] arr_out = divisible_by(np.array([0, 24, 3, 12, 18, 17]))\n",
    "    In [2] arr_out\n",
    "    Out[2] np.array([0, 24, 12])\n",
    "    '''\n",
    "    return arr[(arr % 2 == 0) & (arr%3 == 0)]"
   ]
  },
  {
   "cell_type": "markdown",
   "metadata": {},
   "source": [
    "4. There are three artists entering a talent show: Pam, Pia, and Pablo. \n",
    "    * Pam put in 15 paintings, 4% of her works have won First Prize\n",
    "    * Pia put in 5 paintings, 6% of her works have won First Prize\n",
    "    * Pablo put in 10 paintings, 3% of his works have won First Prize.\n",
    "    \n",
    "What is the chance that Pam will win first prize?\n",
    "\n",
    "(Hint: Bayes theorem)"
   ]
  },
  {
   "cell_type": "markdown",
   "metadata": {},
   "source": [
    "**Answer**:<br>\n",
    "\n",
    "## $ P(Pam|First) = \\frac{P(Pam) * P(First|Pam)}{P(Pam) * P(First|Pam) + P(Pia) * P(First|Pia) + P(Pablo) * P(First|Pablo)}$\n",
    "\n",
    "\n",
    "## $ P(Pam|First) = \\frac{(15/30) * 0.04)}{(15/30)*0.04 + (5/30)*0.06 + (10/30)*0.03}$\n",
    "\n",
    "(Multiply all by 30, to make calculations easier)\n",
    "\n",
    "## $ P(Pam|First) = \\frac{15*0.04}{15*0.04 + 5*0.06 + 10*0.03}$\n",
    "\n",
    "## $ P(Pam|First) = \\frac{0.6}{0.6 + 0.3 + 0.3}$\n",
    "\n",
    "## $ P(Pam|First) = 50 \\% $\n",
    "\n",
    "\n"
   ]
  },
  {
   "cell_type": "markdown",
   "metadata": {},
   "source": [
    "5. Please identify the Big O notation (Order of computations) for the following functions:"
   ]
  },
  {
   "cell_type": "code",
   "execution_count": 11,
   "metadata": {},
   "outputs": [],
   "source": [
    "def algo(items):\n",
    "    print(items[0] * items[0])\n",
    "    \n",
    "    \n",
    "# O(n) = O(1)\n",
    "# The complexity of an algo is said to be constant if the steps required to complete the execution remain constant, irrespective of the number of inputs."
   ]
  },
  {
   "cell_type": "code",
   "execution_count": 10,
   "metadata": {},
   "outputs": [],
   "source": [
    "def algo(items):\n",
    "    for item in items:\n",
    "        print(item)\n",
    "        \n",
    "# O(n) = O(n)\n",
    "# Linear Complexity (the steps required to complete the executino of an algo increse or decrese linearly with the number of inputs.)"
   ]
  },
  {
   "cell_type": "code",
   "execution_count": 12,
   "metadata": {},
   "outputs": [],
   "source": [
    "def algo(items):\n",
    "    for item in items:\n",
    "        for item2 in items:\n",
    "            print(item, ' ' ,item)\n",
    "            \n",
    "# O(n) = O(n^2)\n",
    "# The complexity of an algo is said to be quadratic when the steps required to execute an algortihm are a quadractic function of the number of items in the input."
   ]
  },
  {
   "cell_type": "code",
   "execution_count": 13,
   "metadata": {},
   "outputs": [],
   "source": [
    "def algo(item1, item2):\n",
    "    while item1 < item2:\n",
    "        item1 *= 2\n",
    "        print(item, ' ' ,item)\n",
    "        \n",
    "# O(n) = O(log(n))"
   ]
  },
  {
   "cell_type": "markdown",
   "metadata": {},
   "source": [
    "6. Conceptual:<br>\n",
    "    a) In terms of how the data is organized, what is the difference between Mongo and SQL?<br>\n",
    "    b) When is it better to use Mongo rather than SQL?"
   ]
  },
  {
   "cell_type": "markdown",
   "metadata": {},
   "source": [
    "**Answer**:<br>\n",
    "    a) SQL is a relational database, so it has a defined schema. Meaning that the data is stored in tables and rows, also referred to as records.\n",
    "       While Mongo is non relational database, there are no tables, rows, primary keys or foreign keys.   \n",
    "    b) Data whose structure is constantly changing, is better handled by Mongo. "
   ]
  },
  {
   "cell_type": "code",
   "execution_count": null,
   "metadata": {},
   "outputs": [],
   "source": []
  }
 ],
 "metadata": {
  "kernelspec": {
   "display_name": "Python 3.7.4 64-bit ('base': conda)",
   "language": "python",
   "name": "python37464bitbaseconda7d173c5ac3d647bb86950a56c57e9e53"
  },
  "language_info": {
   "codemirror_mode": {
    "name": "ipython",
    "version": 3
   },
   "file_extension": ".py",
   "mimetype": "text/x-python",
   "name": "python",
   "nbconvert_exporter": "python",
   "pygments_lexer": "ipython3",
   "version": "3.7.4"
  }
 },
 "nbformat": 4,
 "nbformat_minor": 4
}
