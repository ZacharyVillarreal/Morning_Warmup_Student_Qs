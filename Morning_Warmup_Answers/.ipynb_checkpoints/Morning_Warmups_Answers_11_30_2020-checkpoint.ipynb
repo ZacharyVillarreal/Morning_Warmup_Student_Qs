{
 "cells": [
  {
   "cell_type": "markdown",
   "metadata": {},
   "source": [
    "# Morning Warm-up Answers- November 30th, 2020"
   ]
  },
  {
   "cell_type": "markdown",
   "metadata": {},
   "source": [
    "1. Solve this function:"
   ]
  },
  {
   "cell_type": "code",
   "execution_count": 3,
   "metadata": {},
   "outputs": [],
   "source": [
    "def sql_query():\n",
    "    '''\n",
    "    input: none\n",
    "    output: string\n",
    "    \n",
    "    given two tables named CITY and COUNTRY which contains data \n",
    "    with these columns:\n",
    "    \n",
    "        MOVIES:\n",
    "            ID, TITLE, YEAR\n",
    "            \n",
    "        RATINGS:\n",
    "            MOVIE_ID, RATING, VOTES\n",
    "    \n",
    "    write a SQL query to list all movies released in 2010 and their ratings, \n",
    "    in descending order by rating. \n",
    "    \n",
    "    Notes: For movies with the same rating, order them alphabetically by title.\n",
    "        Your query should output a table with two columns, one for the title of \n",
    "        each movie and one for the rating of each movie.\n",
    "\n",
    "        Movies that do not have ratings should not be included in the result.\n",
    "    '''\n",
    "    return \"\"\" \n",
    "           SELECT title, rating\n",
    "           FROM movies\n",
    "           JOIN ratings\n",
    "               ON movies.id = ratings.movie_id\n",
    "           WHERE year = 2010 AND rating IS NOT NULL\n",
    "           ORDER BY rating DESC, title ASC;\n",
    "    \"\"\""
   ]
  },
  {
   "cell_type": "markdown",
   "metadata": {},
   "source": [
    "3. There are three artists entering a talent show: Pam, Pia, and Pablo. \n",
    "    * Pam put in 15 paintings, 4% of her works have won First Prize\n",
    "    * Pia put in 5 paintings, 6% of her works have won First Prize\n",
    "    * Pablo put in 10 paintings, 3% of his works have won First Prize.\n",
    "    \n",
    "What is the chance that **Pam** will win first prize?<br>\n",
    "What is the chance that **Pia** will win first prize?<br>\n",
    "What is the chance that **Pablo** will win first prize?<br>\n",
    "\n",
    "(Hint: Bayes theorem)"
   ]
  },
  {
   "cell_type": "markdown",
   "metadata": {},
   "source": [
    "**Answer**:<br>\n",
    "\n",
    "$ P(First) = P(Pam) * P(First|Pam) + P(Pia) * P(First|Pia) + P(Pablo) * P(First|Pablo) $\n",
    "$ P(First) = 0.04 $\n",
    "\n",
    "**P(Pam|First)**:<br>\n",
    "$ P(Pam|First) = \\frac{P(Pam) * P(First|Pam)}{P(First)}$<br>\n",
    "$ P(Pam|First) = \\frac{(15/30) * 0.04)}{0.04}$<br>\n",
    "$ P(Pam|First) = \\frac{0.5*0.04}{0.04}$<br>\n",
    "$ P(Pam|First) = \\frac{0.02}{0.04}$<br>\n",
    "$ P(Pam|First) = 50 \\% $\n",
    "\n",
    "**P(Pia|First)**:<br>\n",
    "$ P(Pia|First) = \\frac{P(Pia) * P(First|Pia)}{P(First)}$<br>\n",
    "$ P(Pia|First) = \\frac{(5/30) * 0.06)}{0.04}$<br>\n",
    "$ P(Pia|First) = \\frac{0.167*0.06}{0.04}$<br>\n",
    "$ P(Pia|First) = \\frac{0.01}{0.04}$<br>\n",
    "$ P(Pia|First) = 25 \\% $\n",
    "\n",
    "**P(Pablo|First)**:<br>\n",
    "$ P(Pablo|First) = \\frac{P(Pablo) * P(First|Pablo)}{P(First)}$<br>\n",
    "$ P(Pablo|First) = \\frac{(10/30) * 0.03)}{0.04}$<br>\n",
    "$ P(Pablo|First) = \\frac{0.333*0.03}{0.04}$<br>\n",
    "$ P(Pablo|First) = \\frac{0.01}{0.04}$<br>\n",
    "$ P(Pablo|First) = 25 \\% $"
   ]
  },
  {
   "cell_type": "markdown",
   "metadata": {},
   "source": [
    "4. What is a term-frequency vector?<br>\n",
    "   What is a inverse-document-frequency vector?"
   ]
  },
  {
   "cell_type": "markdown",
   "metadata": {},
   "source": [
    "**Answer**:<br>\n",
    "\n",
    "A term-frequency vector is a vector where each value (or column) is a unique word in the vocabulary. We are counting the time each word is used in each document and storing that in a vector, in a tf-vector we then divide each row or document by the sum total of the word counts in that row, this will turn each word count into a frequency. \n",
    "\n",
    "An inverse document-frequency vector is a vector whos values are constructed by taking the numerator, total number of documents in the corpus, and dividing it by the denominator, which is the count of documents that each word appears. \n",
    "\n",
    "\n",
    "**NOTE**: you might see on the assessment that they mention calculating the unnormalized versions of each respective vector, that just means without including the division"
   ]
  },
  {
   "cell_type": "code",
   "execution_count": null,
   "metadata": {},
   "outputs": [],
   "source": []
  }
 ],
 "metadata": {
  "kernelspec": {
   "display_name": "Python 3.7.4 64-bit ('base': conda)",
   "language": "python",
   "name": "python37464bitbaseconda7d173c5ac3d647bb86950a56c57e9e53"
  },
  "language_info": {
   "codemirror_mode": {
    "name": "ipython",
    "version": 3
   },
   "file_extension": ".py",
   "mimetype": "text/x-python",
   "name": "python",
   "nbconvert_exporter": "python",
   "pygments_lexer": "ipython3",
   "version": "3.7.4"
  }
 },
 "nbformat": 4,
 "nbformat_minor": 4
}
