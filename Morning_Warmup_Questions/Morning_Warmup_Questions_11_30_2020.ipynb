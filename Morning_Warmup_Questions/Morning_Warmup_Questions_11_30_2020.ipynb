{
 "cells": [
  {
   "cell_type": "markdown",
   "metadata": {},
   "source": [
    "# Morning Warm-up Questions- November 30th, 2020"
   ]
  },
  {
   "cell_type": "markdown",
   "metadata": {},
   "source": [
    "1. Solve this function:"
   ]
  },
  {
   "cell_type": "code",
   "execution_count": 4,
   "metadata": {},
   "outputs": [],
   "source": [
    "def sql_query():\n",
    "    '''\n",
    "    input: none\n",
    "    output: string\n",
    "    \n",
    "    given a table named MOVIES which contains data \n",
    "    with these columns:\n",
    "    \n",
    "        MOVIES:\n",
    "            ID, TITLE, YEAR\n",
    "        \n",
    "    \n",
    "    write a SQL query to list all the titles and release years of all Harry Potter movies, in chronological order. \n",
    "    \n",
    "    Notes: You may assume that the title of all Harry Potter movies will being with the words \"Harry Potter\", and \n",
    "    that if a movie title begins with the words \"Harry Potter\", it is a Harry Potter movie.\n",
    "    '''\n",
    "    pass"
   ]
  },
  {
   "cell_type": "markdown",
   "metadata": {},
   "source": [
    "2. Solve this function: "
   ]
  },
  {
   "cell_type": "code",
   "execution_count": 5,
   "metadata": {},
   "outputs": [],
   "source": [
    "def sql_query():\n",
    "    '''\n",
    "    input: none\n",
    "    output: string\n",
    "    \n",
    "    given two tables named MOVIES and RATINGS which contains data \n",
    "    with these columns:\n",
    "    \n",
    "        MOVIES:\n",
    "            ID, TITLE, YEAR\n",
    "            \n",
    "        RATINGS:\n",
    "            MOVIE_ID, RATING, VOTES\n",
    "    \n",
    "    write a SQL query to list all movies released in 2010 and their ratings, \n",
    "    in descending order by rating. \n",
    "    \n",
    "    Notes: For movies with the same rating, order them alphabetically by title.\n",
    "        Your query should output a table with two columns, one for the title of \n",
    "        each movie and one for the rating of each movie.\n",
    "\n",
    "        Movies that do not have ratings should not be included in the result.\n",
    "    '''\n",
    "    pass"
   ]
  },
  {
   "cell_type": "markdown",
   "metadata": {},
   "source": [
    "3. Create a 8x8 matrix and fill it with a checkerboard pattern."
   ]
  },
  {
   "cell_type": "markdown",
   "metadata": {},
   "source": [
    "4. What is a term-frequency vector?<br>\n",
    "   What is a inverse-document-frequency vector?"
   ]
  },
  {
   "cell_type": "markdown",
   "metadata": {},
   "source": [
    "5. There are three artists entering a talent show: Pam, Pia, and Pablo. \n",
    "    * Pam put in 15 paintings, 4% of her works have won First Prize\n",
    "    * Pia put in 5 paintings, 6% of her works have won First Prize\n",
    "    * Pablo put in 10 paintings, 3% of his works have won First Prize.\n",
    "    \n",
    "Which artist is the most likely to win?<br>\n",
    "What is that artist's probability of winning?<br>\n",
    "\n",
    "(Hint: Bayes theorem)"
   ]
  }
 ],
 "metadata": {
  "kernelspec": {
   "display_name": "Python 3.7.4 64-bit ('base': conda)",
   "language": "python",
   "name": "python37464bitbaseconda7d173c5ac3d647bb86950a56c57e9e53"
  },
  "language_info": {
   "codemirror_mode": {
    "name": "ipython",
    "version": 3
   },
   "file_extension": ".py",
   "mimetype": "text/x-python",
   "name": "python",
   "nbconvert_exporter": "python",
   "pygments_lexer": "ipython3",
   "version": "3.7.4"
  }
 },
 "nbformat": 4,
 "nbformat_minor": 4
}
