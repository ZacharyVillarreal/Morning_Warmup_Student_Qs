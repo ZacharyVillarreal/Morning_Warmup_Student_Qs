{
 "cells": [
  {
   "cell_type": "markdown",
   "metadata": {},
   "source": [
    "# Afternoon Warm-up Questions - November 12th, 2020"
   ]
  },
  {
   "cell_type": "markdown",
   "metadata": {},
   "source": [
    "1. What is entropy measuring in Decision trees?<br>\n",
    "    * How do we calculate entropy?"
   ]
  },
  {
   "cell_type": "markdown",
   "metadata": {},
   "source": [
    "2. What is Information Gain, and how is it calculated?"
   ]
  },
  {
   "cell_type": "markdown",
   "metadata": {},
   "source": [
    "3. Solve this SQL Query:"
   ]
  },
  {
   "cell_type": "code",
   "execution_count": 2,
   "metadata": {},
   "outputs": [],
   "source": [
    "def sql_query():\n",
    "    '''\n",
    "    input: none\n",
    "    output: string\n",
    "    \n",
    "    given two tables named CITY and COUNTRY which contains data \n",
    "    with these columns:\n",
    "    \n",
    "        CITY:\n",
    "            ID, NAME, COUNTRYCODE, DISTRICT, POPULATION\n",
    "            \n",
    "        COUNTRY:\n",
    "            CODE, NAME, CONTINENT, REGION, SURFACEAREA, POPULATION, LIFEEXPENTENANCY\n",
    "    \n",
    "    query the names of all the continents (COUNTRY.Continent) and their respective \n",
    "    average city populations (CITY.Population).\n",
    "    \n",
    "    Note: CITY.CountryCode and COUNTRY.Code are matching key columns.\n",
    "    \n",
    "    Your result should have: CONTINENT, AVG_POPULATION.\n",
    "    '''\n",
    "    return \"\"\"\n",
    "        SELECT CONTINENT, AVG(CITY.Population) AS AVG_POPULATION\n",
    "        FROM CITY\n",
    "        INNER JOIN COUNTRY\n",
    "            ON CITY.COUNTRYCODE = COUNTRY.CODE\n",
    "        GROUP BY CONTINENT;\n",
    "    \"\"\""
   ]
  },
  {
   "cell_type": "markdown",
   "metadata": {},
   "source": [
    "4. Solve this function."
   ]
  },
  {
   "cell_type": "code",
   "execution_count": 17,
   "metadata": {},
   "outputs": [],
   "source": [
    "import numpy as np\n",
    "\n",
    "def split_array(arr, value):\n",
    "    '''\n",
    "    input: NUMPY ARRAY, INT\n",
    "    output: NUMPY ARRAY, NUMPY ARRAY\n",
    "    \n",
    "    given a NumPy array, split the array into two arrays,\n",
    "    one that contains all integers less than the value you want to \n",
    "    split on, and the other contains all the values that are greater\n",
    "    than or equal to.\n",
    "    \n",
    "    Note: try to utilize the ~ operator.\n",
    "    '''\n",
    "    cond = arr < value\n",
    "    return arr[cond], arr[arr >= value]"
   ]
  },
  {
   "cell_type": "code",
   "execution_count": 18,
   "metadata": {},
   "outputs": [
    {
     "data": {
      "text/plain": [
       "(array([0, 1, 2, 3]), array([4, 5, 6]))"
      ]
     },
     "execution_count": 18,
     "metadata": {},
     "output_type": "execute_result"
    }
   ],
   "source": [
    "split_array(np.array([0,1,2,3,4,5,6]), 4)\n",
    "# Result: (array([0, 1, 2, 3]), array([4, 5, 6]))"
   ]
  },
  {
   "cell_type": "markdown",
   "metadata": {},
   "source": [
    "5. Given the inputted dataframe below, please convert the Item_Price column into a Pandas series and assign it an index with the following labels:\n",
    "\n",
    "`index = ['A','B','C','D','E','F','G','H','I','J']`"
   ]
  },
  {
   "cell_type": "code",
   "execution_count": 7,
   "metadata": {},
   "outputs": [
    {
     "data": {
      "text/html": [
       "<div>\n",
       "<style scoped>\n",
       "    .dataframe tbody tr th:only-of-type {\n",
       "        vertical-align: middle;\n",
       "    }\n",
       "\n",
       "    .dataframe tbody tr th {\n",
       "        vertical-align: top;\n",
       "    }\n",
       "\n",
       "    .dataframe thead th {\n",
       "        text-align: right;\n",
       "    }\n",
       "</style>\n",
       "<table border=\"1\" class=\"dataframe\">\n",
       "  <thead>\n",
       "    <tr style=\"text-align: right;\">\n",
       "      <th></th>\n",
       "      <th>Items_purchased</th>\n",
       "      <th>Item_Price</th>\n",
       "    </tr>\n",
       "  </thead>\n",
       "  <tbody>\n",
       "    <tr>\n",
       "      <th>0</th>\n",
       "      <td>1</td>\n",
       "      <td>123.92</td>\n",
       "    </tr>\n",
       "    <tr>\n",
       "      <th>1</th>\n",
       "      <td>10</td>\n",
       "      <td>87.77</td>\n",
       "    </tr>\n",
       "    <tr>\n",
       "      <th>2</th>\n",
       "      <td>23</td>\n",
       "      <td>2.12</td>\n",
       "    </tr>\n",
       "    <tr>\n",
       "      <th>3</th>\n",
       "      <td>24</td>\n",
       "      <td>20.13</td>\n",
       "    </tr>\n",
       "    <tr>\n",
       "      <th>4</th>\n",
       "      <td>13</td>\n",
       "      <td>10.01</td>\n",
       "    </tr>\n",
       "    <tr>\n",
       "      <th>5</th>\n",
       "      <td>15</td>\n",
       "      <td>7.99</td>\n",
       "    </tr>\n",
       "    <tr>\n",
       "      <th>6</th>\n",
       "      <td>22</td>\n",
       "      <td>12.99</td>\n",
       "    </tr>\n",
       "    <tr>\n",
       "      <th>7</th>\n",
       "      <td>1</td>\n",
       "      <td>20.12</td>\n",
       "    </tr>\n",
       "    <tr>\n",
       "      <th>8</th>\n",
       "      <td>10</td>\n",
       "      <td>199.99</td>\n",
       "    </tr>\n",
       "    <tr>\n",
       "      <th>9</th>\n",
       "      <td>2</td>\n",
       "      <td>10.99</td>\n",
       "    </tr>\n",
       "    <tr>\n",
       "      <th>10</th>\n",
       "      <td>7</td>\n",
       "      <td>9.99</td>\n",
       "    </tr>\n",
       "  </tbody>\n",
       "</table>\n",
       "</div>"
      ],
      "text/plain": [
       "    Items_purchased  Item_Price\n",
       "0                 1      123.92\n",
       "1                10       87.77\n",
       "2                23        2.12\n",
       "3                24       20.13\n",
       "4                13       10.01\n",
       "5                15        7.99\n",
       "6                22       12.99\n",
       "7                 1       20.12\n",
       "8                10      199.99\n",
       "9                 2       10.99\n",
       "10                7        9.99"
      ]
     },
     "execution_count": 7,
     "metadata": {},
     "output_type": "execute_result"
    }
   ],
   "source": [
    "import pandas as pd\n",
    "\n",
    "# Input:\n",
    "df = pd.DataFrame({'Items_purchased': [1,10,23,24,13,15,22,1,10,2,7], 'Item_Price': [123.92, 87.77, 2.12, 20.13, 10.01, 7.99, 12.99, 20.12, 199.99, 10.99, 9.99]}); df"
   ]
  },
  {
   "cell_type": "code",
   "execution_count": 8,
   "metadata": {},
   "outputs": [],
   "source": [
    "# Output: \n",
    "# A    123.92\n",
    "# B     87.77\n",
    "# C      2.12\n",
    "# D     20.13\n",
    "# E     10.01\n",
    "# F      7.99\n",
    "# G     12.99\n",
    "# H     20.12\n",
    "# I    199.99\n",
    "# J     10.99\n",
    "# K      9.99\n",
    "# dtype: float64"
   ]
  },
  {
   "cell_type": "code",
   "execution_count": 30,
   "metadata": {},
   "outputs": [],
   "source": [
    "index = ['A','B','C','D','E','F','G','H','I','J','K']"
   ]
  },
  {
   "cell_type": "code",
   "execution_count": 32,
   "metadata": {},
   "outputs": [
    {
     "data": {
      "text/plain": [
       "A    123.92\n",
       "B     87.77\n",
       "C      2.12\n",
       "D     20.13\n",
       "E     10.01\n",
       "F      7.99\n",
       "G     12.99\n",
       "H     20.12\n",
       "I    199.99\n",
       "J     10.99\n",
       "K      9.99\n",
       "dtype: float64"
      ]
     },
     "execution_count": 32,
     "metadata": {},
     "output_type": "execute_result"
    }
   ],
   "source": [
    "pd.Series(list(df['Item_Price']), index=index)"
   ]
  },
  {
   "cell_type": "code",
   "execution_count": null,
   "metadata": {},
   "outputs": [],
   "source": []
  }
 ],
 "metadata": {
  "kernelspec": {
   "display_name": "Python 3.7.4 64-bit ('base': conda)",
   "language": "python",
   "name": "python37464bitbaseconda7d173c5ac3d647bb86950a56c57e9e53"
  },
  "language_info": {
   "codemirror_mode": {
    "name": "ipython",
    "version": 3
   },
   "file_extension": ".py",
   "mimetype": "text/x-python",
   "name": "python",
   "nbconvert_exporter": "python",
   "pygments_lexer": "ipython3",
   "version": "3.7.4"
  }
 },
 "nbformat": 4,
 "nbformat_minor": 4
}
