{
 "cells": [
  {
   "cell_type": "markdown",
   "metadata": {},
   "source": [
    "# Morning Warm-up Questions - October 21st, 2020"
   ]
  },
  {
   "cell_type": "markdown",
   "metadata": {},
   "source": [
    "1. Solve this SQL function:"
   ]
  },
  {
   "cell_type": "code",
   "execution_count": 1,
   "metadata": {},
   "outputs": [],
   "source": [
    "def sql_query():\n",
    "    '''\n",
    "    input: none\n",
    "    output: string\n",
    "    \n",
    "    given a table named world which contains population data \n",
    "    with these columns:\n",
    "        name, region, area, population, gdp\n",
    "    return a sql query that gives the average population of 'Poland', 'Germany', 'Denmark'.\n",
    "    '''\n",
    "    # your code should look like this:\n",
    "    # return '''SELECT * \n",
    "    #           FROM world;'''\n",
    "    pass"
   ]
  },
  {
   "cell_type": "markdown",
   "metadata": {},
   "source": [
    "2. Solve this SQL function:"
   ]
  },
  {
   "cell_type": "code",
   "execution_count": 2,
   "metadata": {},
   "outputs": [],
   "source": [
    "def sql_query():\n",
    "    '''\n",
    "    input: none\n",
    "    output: string\n",
    "    \n",
    "    given a table named CITY which contains Japanese city data \n",
    "    with these columns:\n",
    "        ID, NAME, COUNTRYCODE, DISTRICT, POPULATION\n",
    "    return a sql query that gives a list of all cities that start with the letter Y.\n",
    "    '''\n",
    "    # your code should look like this:\n",
    "    # return '''SELECT * \n",
    "    #           FROM CITY;'''\n",
    "    pass"
   ]
  },
  {
   "cell_type": "markdown",
   "metadata": {},
   "source": [
    "3. Solve this NumPy function:"
   ]
  },
  {
   "cell_type": "code",
   "execution_count": 3,
   "metadata": {},
   "outputs": [],
   "source": [
    "import numpy as np\n",
    "def even_and_three_array(arr):\n",
    "    '''\n",
    "    INPUT: NUMPY ARRAY\n",
    "    OUTPUT: NUMPY ARRAY\n",
    "    \n",
    "    arr in a numpy array of integers. \n",
    "    Return an array of the integers in arr that are even and divisible by 3\n",
    "    For example:\n",
    "    In [1] arr_out = divisible_by(np.array([0, 24, 3, 12, 18, 17]))\n",
    "    In [2] arr_out\n",
    "    Out[2] np.array([0, 24, 3, 12, 18])\n",
    "    '''\n",
    "    pass"
   ]
  },
  {
   "cell_type": "markdown",
   "metadata": {},
   "source": [
    "4. There are three artists entering a talent show: Pam, Pia, and Pablo. \n",
    "    * Pam put in 15 paintings, 4% of her works have won First Prize\n",
    "    * Pia put in 5 paintings, 6% of her works have won First Prize\n",
    "    * Pablo put in 10 paintings, 3% of his works have won First Prize.\n",
    "    \n",
    "What is the chance that Pam will win first prize?\n",
    "\n",
    "(Hint: Bayes theorem)"
   ]
  },
  {
   "cell_type": "markdown",
   "metadata": {},
   "source": [
    "5. Please identify the Big O notation (Order of computations) for the following functions:"
   ]
  },
  {
   "cell_type": "code",
   "execution_count": 5,
   "metadata": {},
   "outputs": [],
   "source": [
    "def algo(items):\n",
    "    print(items[0] * items[0])\n",
    "\n",
    "# O(n) = ?"
   ]
  },
  {
   "cell_type": "code",
   "execution_count": 6,
   "metadata": {},
   "outputs": [],
   "source": [
    "def algo(items):\n",
    "    for item in items:\n",
    "        print(item)\n",
    "        \n",
    "# O(n) = ?"
   ]
  },
  {
   "cell_type": "code",
   "execution_count": 7,
   "metadata": {},
   "outputs": [],
   "source": [
    "def algo(items):\n",
    "    for item in items:\n",
    "        for item2 in items:\n",
    "            print(item, ' ' ,item)\n",
    "            \n",
    "# O(n) = ?"
   ]
  },
  {
   "cell_type": "code",
   "execution_count": 8,
   "metadata": {},
   "outputs": [],
   "source": [
    "def algo(item1, item2):\n",
    "    while item1 < item2:\n",
    "        item1 *= 2\n",
    "        print(item, ' ' ,item)\n",
    "        \n",
    "# O(n) = ?"
   ]
  },
  {
   "cell_type": "markdown",
   "metadata": {},
   "source": [
    "(Extra)<br>\n",
    "\n",
    "6. Conceptual:<br>\n",
    "    a) In terms of how the data is organized, what is the difference between Mongo and SQL?<br>\n",
    "    b) When is it better to use Mongo rather than SQL?"
   ]
  },
  {
   "cell_type": "code",
   "execution_count": null,
   "metadata": {},
   "outputs": [],
   "source": []
  }
 ],
 "metadata": {
  "kernelspec": {
   "display_name": "Python 3.7.4 64-bit ('base': conda)",
   "language": "python",
   "name": "python37464bitbaseconda7d173c5ac3d647bb86950a56c57e9e53"
  },
  "language_info": {
   "codemirror_mode": {
    "name": "ipython",
    "version": 3
   },
   "file_extension": ".py",
   "mimetype": "text/x-python",
   "name": "python",
   "nbconvert_exporter": "python",
   "pygments_lexer": "ipython3",
   "version": "3.7.4"
  }
 },
 "nbformat": 4,
 "nbformat_minor": 4
}
